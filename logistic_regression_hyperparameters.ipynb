{
 "cells": [
  {
   "cell_type": "code",
   "execution_count": 42,
   "id": "9a0c7752",
   "metadata": {},
   "outputs": [
    {
     "data": {
      "text/plain": [
       "Index(['Pclass', 'Sex', 'Age', 'Fare', 'family_cnt', 'Cabin_ind'], dtype='object')"
      ]
     },
     "execution_count": 42,
     "metadata": {},
     "output_type": "execute_result"
    }
   ],
   "source": [
    "import joblib\n",
    "import pandas as pd\n",
    "from sklearn.linear_model import LogisticRegression\n",
    "from sklearn.model_selection import GridSearchCV\n",
    "import warnings\n",
    "warnings.filterwarnings('ignore', category=FutureWarning)\n",
    "warnings.filterwarnings('ignore', category=DeprecationWarning)\n",
    "\n",
    "tr_features = pd.read_csv(\"C:\\Data hub\\Projects\\X_train.csv\")\n",
    "tr_labels = pd.read_csv(\"C:\\Data hub\\Projects\\y_train.csv\")\n",
    "\"\"\"\n",
    "print(tr_features.shape)\n",
    "print(tr_labels.shape)\n",
    "\"\"\"\n",
    "tr_features.columns"
   ]
  },
  {
   "cell_type": "code",
   "execution_count": 45,
   "id": "2a6d49f8",
   "metadata": {},
   "outputs": [],
   "source": [
    "def print_results(results):\n",
    "    print('Best Params: {}\\n'.format(results.best_params_))\n",
    "    \n",
    "    means = results.cv_results_['mean_test_score']\n",
    "    stds = results.cv_results_['std_test_score']\n",
    "    for mean, std, params in zip(means, stds, results.cv_results_['params']):\n",
    "        print('{} (+/-{}) for {}'.format(round(mean,3), round(std * 2,3),params))"
   ]
  },
  {
   "cell_type": "code",
   "execution_count": 46,
   "id": "e532c13f",
   "metadata": {},
   "outputs": [
    {
     "name": "stdout",
     "output_type": "stream",
     "text": [
      "Best Params: {'C': 10}\n",
      "\n",
      "0.678 (+/-0.063) for {'C': 0.001}\n",
      "0.723 (+/-0.052) for {'C': 0.01}\n",
      "0.777 (+/-0.052) for {'C': 0.1}\n",
      "0.807 (+/-0.053) for {'C': 1}\n",
      "0.807 (+/-0.062) for {'C': 10}\n",
      "0.807 (+/-0.061) for {'C': 100}\n",
      "0.807 (+/-0.061) for {'C': 1000}\n"
     ]
    }
   ],
   "source": [
    "import warnings\n",
    "warnings.filterwarnings(\"ignore\")\n",
    "lr = LogisticRegression()\n",
    "parameters = {\n",
    "    'C':[0.001, 0.01, 0.1, 1, 10, 100, 1000]\n",
    "}\n",
    "cv = GridSearchCV(lr,parameters,cv=5)\n",
    "cv.fit(tr_features,tr_labels.values.ravel())\n",
    "print_results(cv)"
   ]
  },
  {
   "cell_type": "code",
   "execution_count": 47,
   "id": "48b6d893",
   "metadata": {},
   "outputs": [
    {
     "data": {
      "text/plain": [
       "LogisticRegression(C=10)"
      ]
     },
     "execution_count": 47,
     "metadata": {},
     "output_type": "execute_result"
    }
   ],
   "source": [
    "cv.best_estimator_"
   ]
  },
  {
   "cell_type": "code",
   "execution_count": 48,
   "id": "cdfa42ec",
   "metadata": {},
   "outputs": [],
   "source": [
    "#### Write out our pickel model"
   ]
  },
  {
   "cell_type": "code",
   "execution_count": 49,
   "id": "728dc2bc",
   "metadata": {},
   "outputs": [
    {
     "data": {
      "text/plain": [
       "['C:\\\\Data hub\\\\Projects\\\\LR_model.pkl']"
      ]
     },
     "execution_count": 49,
     "metadata": {},
     "output_type": "execute_result"
    }
   ],
   "source": [
    "joblib.dump(cv.best_estimator_, 'C:\\Data hub\\Projects\\LR_model.pkl')"
   ]
  },
  {
   "cell_type": "code",
   "execution_count": null,
   "id": "1212ae36",
   "metadata": {},
   "outputs": [],
   "source": []
  }
 ],
 "metadata": {
  "kernelspec": {
   "display_name": "Python 3",
   "language": "python",
   "name": "python3"
  },
  "language_info": {
   "codemirror_mode": {
    "name": "ipython",
    "version": 3
   },
   "file_extension": ".py",
   "mimetype": "text/x-python",
   "name": "python",
   "nbconvert_exporter": "python",
   "pygments_lexer": "ipython3",
   "version": "3.8.8"
  }
 },
 "nbformat": 4,
 "nbformat_minor": 5
}
