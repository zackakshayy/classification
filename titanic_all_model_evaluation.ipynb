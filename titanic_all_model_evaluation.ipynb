{
 "cells": [
  {
   "cell_type": "code",
   "execution_count": 10,
   "id": "148e6bfa",
   "metadata": {},
   "outputs": [],
   "source": [
    "from sklearn.metrics import accuracy_score, precision_score, recall_score\n",
    "import joblib\n",
    "import pandas as pd\n",
    "from time import time\n",
    "\n",
    "val_features = pd.read_csv(\"C:\\Data hub\\Projects\\X_val.csv\")\n",
    "val_labels = pd.read_csv(\"C:\\Data hub\\Projects\\y_val.csv\")\n",
    "\n",
    "test_features = pd.read_csv(\"C:\\Data hub\\Projects\\X_test.csv\")\n",
    "test_labels = pd.read_csv(\"C:\\Data hub\\Projects\\y_test.csv\")"
   ]
  },
  {
   "cell_type": "code",
   "execution_count": 9,
   "id": "d518f99b",
   "metadata": {},
   "outputs": [
    {
     "data": {
      "text/plain": [
       "{'LR': LogisticRegression(C=10),\n",
       " 'SVC': SVC(C=1, kernel='linear'),\n",
       " 'MLPC': MLPClassifier(),\n",
       " 'rand_forest': RandomForestClassifier(max_depth=8, n_estimators=50),\n",
       " 'boosting': GradientBoostingClassifier(n_estimators=50)}"
      ]
     },
     "execution_count": 9,
     "metadata": {},
     "output_type": "execute_result"
    }
   ],
   "source": [
    "model = {}\n",
    "\n",
    "for mdl in ['LR', 'SVC', 'MLPC', 'rand_forest', 'boosting']:\n",
    "    model[mdl] = joblib.load(\"C:\\Data hub\\Projects\\{}_model.pkl\".format(mdl))\n",
    "    \n",
    "model"
   ]
  },
  {
   "cell_type": "code",
   "execution_count": 18,
   "id": "6930f3b0",
   "metadata": {},
   "outputs": [],
   "source": [
    "def evaluate_model(name, model, features, labels):\n",
    "    start = time()\n",
    "    pred = model.predict(features)\n",
    "    end = time()\n",
    "    accuracy = round(accuracy_score(labels, pred),3)\n",
    "    precision = round(precision_score(labels, pred),3)\n",
    "    recall = round(recall_score(labels, pred),3)\n",
    "    print('{} -- Accuracy: {} / Precision: {} / Recall: {} / Latency: {}ms'.format(name,\n",
    "                                                                                   accuracy,\n",
    "                                                                                  precision,\n",
    "                                                                                  recall,\n",
    "                                                                                  round(end-start),3))\n",
    "    "
   ]
  },
  {
   "cell_type": "code",
   "execution_count": 19,
   "id": "6fdcdb47",
   "metadata": {},
   "outputs": [
    {
     "name": "stdout",
     "output_type": "stream",
     "text": [
      "LR -- Accuracy: 0.792 / Precision: 0.761 / Recall: 0.708 / Latency: 0ms\n",
      "SVC -- Accuracy: 0.77 / Precision: 0.738 / Recall: 0.667 / Latency: 0ms\n",
      "MLPC -- Accuracy: 0.792 / Precision: 0.754 / Recall: 0.722 / Latency: 0ms\n",
      "rand_forest -- Accuracy: 0.854 / Precision: 0.848 / Recall: 0.778 / Latency: 0ms\n",
      "boosting -- Accuracy: 0.831 / Precision: 0.828 / Recall: 0.736 / Latency: 0ms\n"
     ]
    }
   ],
   "source": [
    "for name, mdl in model.items():\n",
    "    evaluate_model(name, mdl, val_features, val_labels)"
   ]
  },
  {
   "cell_type": "code",
   "execution_count": 20,
   "id": "f9288b2f",
   "metadata": {},
   "outputs": [
    {
     "name": "stdout",
     "output_type": "stream",
     "text": [
      "Random Forest -- Accuracy: 0.827 / Precision: 0.764 / Recall: 0.797 / Latency: 0ms\n"
     ]
    }
   ],
   "source": [
    "evaluate_model('Random Forest', model['rand_forest'], test_features, test_labels)"
   ]
  },
  {
   "cell_type": "code",
   "execution_count": null,
   "id": "36b77457",
   "metadata": {},
   "outputs": [],
   "source": []
  }
 ],
 "metadata": {
  "kernelspec": {
   "display_name": "Python 3",
   "language": "python",
   "name": "python3"
  },
  "language_info": {
   "codemirror_mode": {
    "name": "ipython",
    "version": 3
   },
   "file_extension": ".py",
   "mimetype": "text/x-python",
   "name": "python",
   "nbconvert_exporter": "python",
   "pygments_lexer": "ipython3",
   "version": "3.8.8"
  }
 },
 "nbformat": 4,
 "nbformat_minor": 5
}
