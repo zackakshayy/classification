{
 "cells": [
  {
   "cell_type": "code",
   "execution_count": 6,
   "id": "d8a4edc5",
   "metadata": {},
   "outputs": [],
   "source": [
    "import joblib\n",
    "import pandas as pd\n",
    "from sklearn.model_selection import GridSearchCV\n",
    "from sklearn.ensemble import GradientBoostingClassifier\n",
    "import warnings\n",
    "# warnings.filterwarnings('ignore', category=DeprecationWarning)\n",
    "# warnings.filterwarnings('ignore', category=FutureWarning)\n",
    "warnings.filterwarnings('ignore')\n",
    "tr_features = pd.read_csv(\"C:\\Data hub\\Projects\\X_train.csv\")\n",
    "tr_labels = pd.read_csv(\"C:\\Data hub\\Projects\\y_train.csv\")"
   ]
  },
  {
   "cell_type": "code",
   "execution_count": 7,
   "id": "3439c17d",
   "metadata": {},
   "outputs": [
    {
     "name": "stdout",
     "output_type": "stream",
     "text": [
      "(534, 6)\n",
      "(534, 1)\n"
     ]
    }
   ],
   "source": [
    "print(tr_features.shape)\n",
    "print(tr_labels.shape)"
   ]
  },
  {
   "cell_type": "code",
   "execution_count": 8,
   "id": "f7fe114c",
   "metadata": {},
   "outputs": [],
   "source": [
    "def print_results(results):\n",
    "    print('BEST PARAMS: {}\\n'.format(results.best_params_))\n",
    "    \n",
    "    means = results.cv_results_['mean_test_score']\n",
    "    stds = results.cv_results_['std_test_score']\n",
    "    for mean, std, params in zip(means, stds, results.cv_results_['params']):\n",
    "        print('{} (+/-{}) for {}'.format(round(mean,2), round(std * 2, 3),params))"
   ]
  },
  {
   "cell_type": "code",
   "execution_count": 23,
   "id": "f580211f",
   "metadata": {},
   "outputs": [
    {
     "name": "stdout",
     "output_type": "stream",
     "text": [
      "BEST PARAMS: {'learning_rate': 0.1, 'max_depth': 3, 'n_estimators': 50}\n",
      "\n",
      "0.62 (+/-0.007) for {'learning_rate': 0.01, 'max_depth': 1, 'n_estimators': 5}\n",
      "0.78 (+/-0.041) for {'learning_rate': 0.01, 'max_depth': 1, 'n_estimators': 50}\n",
      "0.78 (+/-0.041) for {'learning_rate': 0.01, 'max_depth': 1, 'n_estimators': 250}\n",
      "0.81 (+/-0.049) for {'learning_rate': 0.01, 'max_depth': 1, 'n_estimators': 500}\n",
      "0.62 (+/-0.007) for {'learning_rate': 0.01, 'max_depth': 3, 'n_estimators': 5}\n",
      "0.79 (+/-0.035) for {'learning_rate': 0.01, 'max_depth': 3, 'n_estimators': 50}\n",
      "0.81 (+/-0.018) for {'learning_rate': 0.01, 'max_depth': 3, 'n_estimators': 250}\n",
      "0.82 (+/-0.023) for {'learning_rate': 0.01, 'max_depth': 3, 'n_estimators': 500}\n",
      "0.62 (+/-0.007) for {'learning_rate': 0.01, 'max_depth': 5, 'n_estimators': 5}\n",
      "0.78 (+/-0.03) for {'learning_rate': 0.01, 'max_depth': 5, 'n_estimators': 50}\n",
      "0.8 (+/-0.03) for {'learning_rate': 0.01, 'max_depth': 5, 'n_estimators': 250}\n",
      "0.79 (+/-0.039) for {'learning_rate': 0.01, 'max_depth': 5, 'n_estimators': 500}\n",
      "0.62 (+/-0.007) for {'learning_rate': 0.01, 'max_depth': 7, 'n_estimators': 5}\n",
      "0.79 (+/-0.022) for {'learning_rate': 0.01, 'max_depth': 7, 'n_estimators': 50}\n",
      "0.81 (+/-0.037) for {'learning_rate': 0.01, 'max_depth': 7, 'n_estimators': 250}\n",
      "0.79 (+/-0.043) for {'learning_rate': 0.01, 'max_depth': 7, 'n_estimators': 500}\n",
      "0.62 (+/-0.007) for {'learning_rate': 0.01, 'max_depth': 9, 'n_estimators': 5}\n",
      "0.79 (+/-0.02) for {'learning_rate': 0.01, 'max_depth': 9, 'n_estimators': 50}\n",
      "0.79 (+/-0.04) for {'learning_rate': 0.01, 'max_depth': 9, 'n_estimators': 250}\n",
      "0.78 (+/-0.032) for {'learning_rate': 0.01, 'max_depth': 9, 'n_estimators': 500}\n",
      "0.78 (+/-0.041) for {'learning_rate': 0.1, 'max_depth': 1, 'n_estimators': 5}\n",
      "0.81 (+/-0.052) for {'learning_rate': 0.1, 'max_depth': 1, 'n_estimators': 50}\n",
      "0.81 (+/-0.052) for {'learning_rate': 0.1, 'max_depth': 1, 'n_estimators': 250}\n",
      "0.81 (+/-0.044) for {'learning_rate': 0.1, 'max_depth': 1, 'n_estimators': 500}\n",
      "0.78 (+/-0.033) for {'learning_rate': 0.1, 'max_depth': 3, 'n_estimators': 5}\n",
      "0.83 (+/-0.037) for {'learning_rate': 0.1, 'max_depth': 3, 'n_estimators': 50}\n",
      "0.8 (+/-0.073) for {'learning_rate': 0.1, 'max_depth': 3, 'n_estimators': 250}\n",
      "0.79 (+/-0.056) for {'learning_rate': 0.1, 'max_depth': 3, 'n_estimators': 500}\n",
      "0.78 (+/-0.03) for {'learning_rate': 0.1, 'max_depth': 5, 'n_estimators': 5}\n",
      "0.8 (+/-0.055) for {'learning_rate': 0.1, 'max_depth': 5, 'n_estimators': 50}\n",
      "0.78 (+/-0.051) for {'learning_rate': 0.1, 'max_depth': 5, 'n_estimators': 250}\n",
      "0.78 (+/-0.075) for {'learning_rate': 0.1, 'max_depth': 5, 'n_estimators': 500}\n",
      "0.79 (+/-0.038) for {'learning_rate': 0.1, 'max_depth': 7, 'n_estimators': 5}\n",
      "0.78 (+/-0.047) for {'learning_rate': 0.1, 'max_depth': 7, 'n_estimators': 50}\n",
      "0.78 (+/-0.046) for {'learning_rate': 0.1, 'max_depth': 7, 'n_estimators': 250}\n",
      "0.78 (+/-0.072) for {'learning_rate': 0.1, 'max_depth': 7, 'n_estimators': 500}\n",
      "0.78 (+/-0.031) for {'learning_rate': 0.1, 'max_depth': 9, 'n_estimators': 5}\n",
      "0.77 (+/-0.042) for {'learning_rate': 0.1, 'max_depth': 9, 'n_estimators': 50}\n",
      "0.79 (+/-0.06) for {'learning_rate': 0.1, 'max_depth': 9, 'n_estimators': 250}\n",
      "0.78 (+/-0.075) for {'learning_rate': 0.1, 'max_depth': 9, 'n_estimators': 500}\n",
      "0.78 (+/-0.025) for {'learning_rate': 1, 'max_depth': 1, 'n_estimators': 5}\n",
      "0.81 (+/-0.061) for {'learning_rate': 1, 'max_depth': 1, 'n_estimators': 50}\n",
      "0.81 (+/-0.079) for {'learning_rate': 1, 'max_depth': 1, 'n_estimators': 250}\n",
      "0.81 (+/-0.104) for {'learning_rate': 1, 'max_depth': 1, 'n_estimators': 500}\n",
      "0.78 (+/-0.085) for {'learning_rate': 1, 'max_depth': 3, 'n_estimators': 5}\n",
      "0.79 (+/-0.067) for {'learning_rate': 1, 'max_depth': 3, 'n_estimators': 50}\n",
      "0.78 (+/-0.052) for {'learning_rate': 1, 'max_depth': 3, 'n_estimators': 250}\n",
      "0.78 (+/-0.067) for {'learning_rate': 1, 'max_depth': 3, 'n_estimators': 500}\n",
      "0.79 (+/-0.043) for {'learning_rate': 1, 'max_depth': 5, 'n_estimators': 5}\n",
      "0.76 (+/-0.08) for {'learning_rate': 1, 'max_depth': 5, 'n_estimators': 50}\n",
      "0.77 (+/-0.059) for {'learning_rate': 1, 'max_depth': 5, 'n_estimators': 250}\n",
      "0.77 (+/-0.052) for {'learning_rate': 1, 'max_depth': 5, 'n_estimators': 500}\n",
      "0.78 (+/-0.038) for {'learning_rate': 1, 'max_depth': 7, 'n_estimators': 5}\n",
      "0.76 (+/-0.077) for {'learning_rate': 1, 'max_depth': 7, 'n_estimators': 50}\n",
      "0.77 (+/-0.066) for {'learning_rate': 1, 'max_depth': 7, 'n_estimators': 250}\n",
      "0.77 (+/-0.058) for {'learning_rate': 1, 'max_depth': 7, 'n_estimators': 500}\n",
      "0.76 (+/-0.046) for {'learning_rate': 1, 'max_depth': 9, 'n_estimators': 5}\n",
      "0.78 (+/-0.087) for {'learning_rate': 1, 'max_depth': 9, 'n_estimators': 50}\n",
      "0.78 (+/-0.071) for {'learning_rate': 1, 'max_depth': 9, 'n_estimators': 250}\n",
      "0.78 (+/-0.057) for {'learning_rate': 1, 'max_depth': 9, 'n_estimators': 500}\n",
      "0.22 (+/-0.041) for {'learning_rate': 10, 'max_depth': 1, 'n_estimators': 5}\n",
      "0.22 (+/-0.041) for {'learning_rate': 10, 'max_depth': 1, 'n_estimators': 50}\n",
      "0.22 (+/-0.041) for {'learning_rate': 10, 'max_depth': 1, 'n_estimators': 250}\n",
      "0.22 (+/-0.041) for {'learning_rate': 10, 'max_depth': 1, 'n_estimators': 500}\n",
      "0.37 (+/-0.334) for {'learning_rate': 10, 'max_depth': 3, 'n_estimators': 5}\n",
      "0.37 (+/-0.334) for {'learning_rate': 10, 'max_depth': 3, 'n_estimators': 50}\n",
      "0.37 (+/-0.334) for {'learning_rate': 10, 'max_depth': 3, 'n_estimators': 250}\n",
      "0.37 (+/-0.334) for {'learning_rate': 10, 'max_depth': 3, 'n_estimators': 500}\n",
      "0.4 (+/-0.085) for {'learning_rate': 10, 'max_depth': 5, 'n_estimators': 5}\n",
      "0.42 (+/-0.109) for {'learning_rate': 10, 'max_depth': 5, 'n_estimators': 50}\n",
      "0.45 (+/-0.075) for {'learning_rate': 10, 'max_depth': 5, 'n_estimators': 250}\n",
      "0.42 (+/-0.047) for {'learning_rate': 10, 'max_depth': 5, 'n_estimators': 500}\n",
      "0.53 (+/-0.15) for {'learning_rate': 10, 'max_depth': 7, 'n_estimators': 5}\n",
      "0.5 (+/-0.129) for {'learning_rate': 10, 'max_depth': 7, 'n_estimators': 50}\n",
      "0.49 (+/-0.166) for {'learning_rate': 10, 'max_depth': 7, 'n_estimators': 250}\n",
      "0.51 (+/-0.138) for {'learning_rate': 10, 'max_depth': 7, 'n_estimators': 500}\n",
      "0.7 (+/-0.126) for {'learning_rate': 10, 'max_depth': 9, 'n_estimators': 5}\n",
      "0.7 (+/-0.138) for {'learning_rate': 10, 'max_depth': 9, 'n_estimators': 50}\n",
      "0.7 (+/-0.116) for {'learning_rate': 10, 'max_depth': 9, 'n_estimators': 250}\n",
      "0.72 (+/-0.117) for {'learning_rate': 10, 'max_depth': 9, 'n_estimators': 500}\n",
      "0.38 (+/-0.007) for {'learning_rate': 100, 'max_depth': 1, 'n_estimators': 5}\n",
      "0.38 (+/-0.007) for {'learning_rate': 100, 'max_depth': 1, 'n_estimators': 50}\n",
      "0.38 (+/-0.007) for {'learning_rate': 100, 'max_depth': 1, 'n_estimators': 250}\n",
      "0.38 (+/-0.007) for {'learning_rate': 100, 'max_depth': 1, 'n_estimators': 500}\n",
      "0.48 (+/-0.303) for {'learning_rate': 100, 'max_depth': 3, 'n_estimators': 5}\n",
      "0.48 (+/-0.303) for {'learning_rate': 100, 'max_depth': 3, 'n_estimators': 50}\n",
      "0.48 (+/-0.303) for {'learning_rate': 100, 'max_depth': 3, 'n_estimators': 250}\n",
      "0.48 (+/-0.303) for {'learning_rate': 100, 'max_depth': 3, 'n_estimators': 500}\n",
      "0.41 (+/-0.086) for {'learning_rate': 100, 'max_depth': 5, 'n_estimators': 5}\n",
      "0.42 (+/-0.086) for {'learning_rate': 100, 'max_depth': 5, 'n_estimators': 50}\n",
      "0.42 (+/-0.11) for {'learning_rate': 100, 'max_depth': 5, 'n_estimators': 250}\n",
      "0.41 (+/-0.095) for {'learning_rate': 100, 'max_depth': 5, 'n_estimators': 500}\n",
      "0.5 (+/-0.133) for {'learning_rate': 100, 'max_depth': 7, 'n_estimators': 5}\n",
      "0.5 (+/-0.02) for {'learning_rate': 100, 'max_depth': 7, 'n_estimators': 50}\n",
      "0.54 (+/-0.134) for {'learning_rate': 100, 'max_depth': 7, 'n_estimators': 250}\n",
      "0.51 (+/-0.094) for {'learning_rate': 100, 'max_depth': 7, 'n_estimators': 500}\n",
      "0.66 (+/-0.065) for {'learning_rate': 100, 'max_depth': 9, 'n_estimators': 5}\n",
      "0.69 (+/-0.111) for {'learning_rate': 100, 'max_depth': 9, 'n_estimators': 50}\n",
      "0.66 (+/-0.14) for {'learning_rate': 100, 'max_depth': 9, 'n_estimators': 250}\n",
      "0.66 (+/-0.118) for {'learning_rate': 100, 'max_depth': 9, 'n_estimators': 500}\n"
     ]
    }
   ],
   "source": [
    "gb = GradientBoostingClassifier()\n",
    "parameters = {\n",
    "    'n_estimators': [5, 50, 250, 500],\n",
    "    'max_depth' : [1, 3, 5, 7, 9],\n",
    "    'learning_rate' : [0.01, 0.1, 1, 10, 100]\n",
    "}\n",
    "\n",
    "cv = GridSearchCV(gb, parameters, cv = 5)\n",
    "cv.fit(tr_features, tr_labels.values.ravel())\n",
    "print_results(cv)"
   ]
  },
  {
   "cell_type": "code",
   "execution_count": 24,
   "id": "707826ef",
   "metadata": {},
   "outputs": [
    {
     "data": {
      "text/plain": [
       "GradientBoostingClassifier(n_estimators=50)"
      ]
     },
     "execution_count": 24,
     "metadata": {},
     "output_type": "execute_result"
    }
   ],
   "source": [
    "cv.best_estimator_"
   ]
  },
  {
   "cell_type": "code",
   "execution_count": 27,
   "id": "9e6d1640",
   "metadata": {},
   "outputs": [
    {
     "data": {
      "text/plain": [
       "['C:\\\\Data hub\\\\Projects\\\\boosting_model.pkl']"
      ]
     },
     "execution_count": 27,
     "metadata": {},
     "output_type": "execute_result"
    }
   ],
   "source": [
    "joblib.dump(cv.best_estimator_, r'C:\\Data hub\\Projects\\boosting_model.pkl')"
   ]
  },
  {
   "cell_type": "code",
   "execution_count": null,
   "id": "9fc113fb",
   "metadata": {},
   "outputs": [],
   "source": []
  }
 ],
 "metadata": {
  "kernelspec": {
   "display_name": "Python 3",
   "language": "python",
   "name": "python3"
  },
  "language_info": {
   "codemirror_mode": {
    "name": "ipython",
    "version": 3
   },
   "file_extension": ".py",
   "mimetype": "text/x-python",
   "name": "python",
   "nbconvert_exporter": "python",
   "pygments_lexer": "ipython3",
   "version": "3.8.8"
  }
 },
 "nbformat": 4,
 "nbformat_minor": 5
}
